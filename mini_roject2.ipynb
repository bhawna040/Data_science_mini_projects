{
 "cells": [
  {
   "cell_type": "raw",
   "id": "a59b4dac-d0e5-4888-bc88-f4c673892868",
   "metadata": {},
   "source": [
    "#Assignment-2___age checker for  voting and driving\n",
    "age=int(input(\"Please enter your age:\"))\n",
    "if age>=18:\n",
    "    print(\"YOU ARE ELIGIBLE FOR DRIVING\")\n",
    "    print(\"YOU ARE ELIGIBLE FOR VOTING\")\n",
    "else:\n",
    "    print(\"YOU ARE NOT ELIGIBLE FOR DRIVING\")\n",
    "    print(\"YOU ARE NOT ELIGIBLE FOR VOTING\")\n",
    "print(\"THANKS FOR VISITING\")"
   ]
  },
  {
   "cell_type": "code",
   "execution_count": 7,
   "id": "4b522b5b-08c3-4169-a294-782245401da7",
   "metadata": {},
   "outputs": [
    {
     "name": "stdout",
     "output_type": "stream",
     "text": [
      "Stops available for the Journey along with their fare:-\n",
      "\t1.Dhansa-Najafgarh=20\n",
      "\t2.Najafgarh-Dwarka=30\n",
      "\t3.Dwarka-Matiyala=15\n",
      "\t4.Matiyala-Jankpuri=30\n"
     ]
    },
    {
     "name": "stdin",
     "output_type": "stream",
     "text": [
      "Select your stop 2\n",
      "Enter your age 45\n"
     ]
    },
    {
     "name": "stdout",
     "output_type": "stream",
     "text": [
      "FARE FOR YOUR JOURNEY FROM NAJAFGARH TO DWARKA IS: 27.0\n",
      "THANKS FOR VISINTING THE BUS..('-')\n"
     ]
    }
   ],
   "source": [
    "#assignment--2__miniproject____bus fare calculator\n",
    "PRINT(\"WELCOME TO OUR BUS\")\n",
    "\n",
    "print(\"Stops available for the Journey along with their fare:-\\n\\t1.Dhansa-Najafgarh=20\\n\\t2.Najafgarh-Dwarka=30\\n\\t3.Dwarka-Matiyala=15\\n\\t4.Matiyala-Jankpuri=30\")\n",
    "#then let him select the stop from specifi options\n",
    "stop=int(input(\"Select your stop\"))\n",
    "age=int(input('Enter your age'))\n",
    "#according to the age group  and the stops apply the discount\n",
    "if stop==1:\n",
    "    if age<=18:\n",
    "        \n",
    "        disc=20-(20*(40/100))\n",
    "    \n",
    "        print(\"FARE FOR YOUR JOURNEY FROM DHANSA TO NAJAFGARH IS:\",disc)\n",
    "    elif age>18 and age<35:\n",
    "        disc=20-(20*(30/100))\n",
    "        \n",
    "        print(\"FARE FOR YOUR JOURNEY FROM DHANSA TO NAJAFGARH IS:\",disc)\n",
    "    elif age>=35 and age<65:\n",
    "        disc=20-(20*(10/100))\n",
    "        \n",
    "        print(\"FARE FOR YOUR JOURNEY FROM DHANSA TO NAJAFGARH IS:\",disc)\n",
    "    else:\n",
    "        disc=20-(20*(50/100))\n",
    "        \n",
    "        print(\"FARE FOR YOUR JOURNEY FROM DHANSA TO NAJAFGARH IS:\",disc)\n",
    "elif stop==2:\n",
    "    if age<=18:\n",
    "        disc=30-(30*(40/100))\n",
    "        print(\"FARE FOR YOUR JOURNEY FROM NAJAFGARH TO DWARKA IS:\",disc)\n",
    "    elif age>18 and age<35:\n",
    "        disc=30-(30*(30/100))\n",
    "        print(\"FARE FOR YOUR JOURNEY FROM NAJAFGARH TO DWARKA IS:\",disc)\n",
    "    elif age>=35 and age<65:\n",
    "        disc=30-(30*(10/100))\n",
    "        print(\"FARE FOR YOUR JOURNEY FROM NAJAFGARH TO DWARKA IS:\",disc)\n",
    "    else:\n",
    "        disc=30-(30*(50/100))\n",
    "        print(\"FARE FOR YOUR JOURNEY FROM NAJAFGARH TO DWARKA IS:\",disc)\n",
    "elif stop==3:\n",
    "    if age<=18:\n",
    "        \n",
    "        disc=15-(15*(40/100))\n",
    "        print(\"FARE FOR YOUR JOURNEY FROM DWARKA TO MATIYALA IS:\",disc)\n",
    "    elif age>18 and age<35:\n",
    "        disc=15-(15*(30/100))\n",
    "        print(\"FARE FOR YOUR JOURNEY FROM DWARKA TO MATIYALA IS:\",disc)\n",
    "    elif age>=35 and age<65:\n",
    "        disc=15-(15*(10/100))\n",
    "        print(\"FARE FOR YOUR JOURNEY FROM DWARKA TO MATIYALA IS:\",disc)\n",
    "    elif age>=65:\n",
    "        disc=15-(15*(50/100))\n",
    "        print(\"FARE FOR YOUR JOURNEY FROM DWARKA TO MATIYALA IS:\",disc)\n",
    "elif stop==4:\n",
    "    if age<=18:\n",
    "        \n",
    "        disc=30-(30*(40/100))\n",
    "        print(\"FARE FOR YOUR JOURNEY FROM MATIYALA TO JANAKPURI IS:\",disc)\n",
    "    elif age>18 and age<35:\n",
    "        disc=30-(30*(30/100))\n",
    "        print(\"FARE FOR YOUR JOURNEY FROM MATIYALA TO JANAKPURI IS:\",disc)\n",
    "    elif age>=35 and age<65:\n",
    "        disc=30-(30*(10/100))\n",
    "        print(\"FARE FOR YOUR JOURNEY FROM MATIYALA TO JANAKPURI IS:\",disc)\n",
    "    elif age>=65:\n",
    "        disc=30-(30*(50/100))\n",
    "        print(\"FARE FOR YOUR JOURNEY FROM MATIYALA TO JANAKPURI IS:\",disc)\n",
    "else:\n",
    "    print(\"ENTER CORRECT STOP\")\n",
    "print(\"THANKS FOR VISITING THE BUS..('-')\")\n",
    "    \n",
    "\n"
   ]
  },
  {
   "cell_type": "code",
   "execution_count": 5,
   "id": "6d76914a-7cdd-4226-bb8e-1b844802c2c5",
   "metadata": {},
   "outputs": [
    {
     "name": "stdout",
     "output_type": "stream",
     "text": [
      "WELCOME TO LIBRARY\n"
     ]
    },
    {
     "name": "stdin",
     "output_type": "stream",
     "text": [
      "Enter your name BHAWNA\n",
      "Enter the days when you borrowed the book from the library 78\n",
      "Enter the name of the book you borrowed MELUHA\n"
     ]
    },
    {
     "name": "stdout",
     "output_type": "stream",
     "text": [
      "OOPS....  BHAWNA  NEED TO PAY THE FINE FOR DELAY IN RETURN OF THE BOOK  MELUHA DUE 100\n"
     ]
    }
   ],
   "source": [
    "#LIBRARY FINE COLLECTOR\n",
    "from datetime import date\n",
    "print(\"WELCOME TO LIBRARY\")\n",
    "NAM=input(\"Enter your name\")\n",
    "due=int(input(\"Enter the days when you borrowed the book from the library\"))\n",
    "fine=0\n",
    "book=input(\"Enter the name of the book you borrowed\")\n",
    "if due>=30 and due<60:\n",
    "    fine=50\n",
    "    print(\"OOPS.... \",NAM,\" NEED TO PAY THE FINE FOR DELAY IN RETURN OF THE BOOK \",book, \"DUE\",fine)\n",
    "elif  due>=61:\n",
    "    fine=100\n",
    "    print(\"OOPS.... \",NAM,\" NEED TO PAY THE FINE FOR DELAY IN RETURN OF THE BOOK \",book, \"DUE\",fine)\n",
    "    \n",
    "else:\n",
    "    print(NAM,\"  YOU DON'T HAVE TO PAY THE FINE....RETURN THE BOOK WHEN YOU ARE DONE READING IT \")"
   ]
  },
  {
   "cell_type": "code",
   "execution_count": 2,
   "id": "9e4bd66e-3a0c-4b2e-ba46-3ae96a3c1878",
   "metadata": {},
   "outputs": [
    {
     "name": "stdin",
     "output_type": "stream",
     "text": [
      "Enter your C marks 34\n",
      "Enter your Maths marks 67\n",
      "Enter your WT marks 34\n",
      "Enter your DSA marks 8\n"
     ]
    },
    {
     "name": "stdout",
     "output_type": "stream",
     "text": [
      "Your total marks are 35.75\n",
      "YOU GOT F GRADE\n"
     ]
    }
   ],
   "source": [
    "#grade calculator\n",
    "C=int(input(\"Enter your C marks\"))\n",
    "maths=int(input(\"Enter your Maths marks\"))\n",
    "WT=int(input(\"Enter your WT marks\"))\n",
    "DSA=int(input(\"Enter your DSA marks\"))\n",
    "marks=(C+maths+WT+DSA)/4\n",
    "print(\"Your total marks are\",marks)\n",
    "if marks>90 and marks<=100:\n",
    "    print(\"YOU GOT A+ GRADE\")\n",
    "elif marks<90 and marks>=80:\n",
    "    print(\"YOU GOT B+ GRADE\")\n",
    "elif marks<80 and marks>=70:\n",
    "    print(\"YOU GOT C+ GRADE\")\n",
    "elif marks<70 and marks>=60:\n",
    "    print(\"YOU GOT A+ GRADE\")\n",
    "else:\n",
    "    print(\"YOU GOT F GRADE\")\n",
    "\n",
    "    "
   ]
  },
  {
   "cell_type": "code",
   "execution_count": 7,
   "id": "d2b1a4cc-cdc5-4b7c-9b3c-2cdf5c2279a7",
   "metadata": {},
   "outputs": [
    {
     "name": "stdin",
     "output_type": "stream",
     "text": [
      "Enter First number 23\n",
      "Enter seconf number 23\n",
      "CHOOSE WHAT OPERATION YOU WANT TO PERFORM +\n"
     ]
    },
    {
     "name": "stdout",
     "output_type": "stream",
     "text": [
      "Result is 46\n"
     ]
    }
   ],
   "source": [
    "#calculator\n",
    "n1=int(input(\"Enter First number\"))\n",
    "n2=int(input(\"Enter seconf number\"))\n",
    "op=input(\"CHOOSE WHAT OPERATION YOU WANT TO PERFORM\")\n",
    "if op==\"+\":\n",
    "    print(\"Result is\",n1+n2)\n",
    "elif op==\"-\":\n",
    "    print(\"Result is\",n1-n2)\n",
    "elif op==\"*\":\n",
    "    print(\"Result is\",n1*n2)\n",
    "elif op==\"/\":\n",
    "    print(\"Result is\",n1/n2)\n",
    "else:\n",
    "    print(\"ENTER CORRECT CREDENTIALS!!!!!!!!\")\n",
    "\n"
   ]
  },
  {
   "cell_type": "code",
   "execution_count": 12,
   "id": "87bc9ee3-7be4-49e9-b6b2-a5d517801aa6",
   "metadata": {},
   "outputs": [
    {
     "name": "stdin",
     "output_type": "stream",
     "text": [
      "Enter the Unit of electricity 356\n"
     ]
    },
    {
     "name": "stdout",
     "output_type": "stream",
     "text": [
      "ELECTRICITY BILL = 780\n"
     ]
    }
   ],
   "source": [
    "# ELECTRICITY BILL GENERATOR\n",
    "#TAKE UNIT FROM USER AND DEFINE THE RATE PER UNIT AND ALSO PROVIDE SUBSIDY UNTILL LIMITED UNITS AND THEN ACCORDING TO UNIT PRINT THE BILL AS PER THE RATE\n",
    "uni=int(input(\"Enter the Unit of electricity\"))\n",
    "rate=5\n",
    "if uni<=200:\n",
    "    print(\"ELECETRICTY BILL=0\")\n",
    "else:\n",
    "    print(\"ELECTRICITY BILL =\",(uni-200)*rate)\n",
    "    "
   ]
  },
  {
   "cell_type": "code",
   "execution_count": 19,
   "id": "07c4899b-0b60-4404-98e9-4ff9279914ae",
   "metadata": {},
   "outputs": [
    {
     "name": "stdout",
     "output_type": "stream",
     "text": [
      "------CREATE ACCOUNT-------\n"
     ]
    },
    {
     "name": "stdin",
     "output_type": "stream",
     "text": [
      "Enter  username udh\n",
      "Enter your password 245\n"
     ]
    },
    {
     "name": "stdout",
     "output_type": "stream",
     "text": [
      "\t\t\t\t NOW LETS LOGIN IN YOUR ACCOUNT\n"
     ]
    },
    {
     "name": "stdin",
     "output_type": "stream",
     "text": [
      "Enter you correct username: fdger\n",
      "Enter your password 34\n"
     ]
    },
    {
     "name": "stdout",
     "output_type": "stream",
     "text": [
      "ENTER CORRECT CREDIANTILS\n"
     ]
    },
    {
     "name": "stdin",
     "output_type": "stream",
     "text": [
      "Enter you correct username: fger\n",
      "Enter your password 452\n"
     ]
    },
    {
     "name": "stdout",
     "output_type": "stream",
     "text": [
      "ENTER CORRECT CREDIANTILS\n"
     ]
    },
    {
     "name": "stdin",
     "output_type": "stream",
     "text": [
      "Enter you correct username: sdf\n",
      "Enter your password 34\n"
     ]
    },
    {
     "name": "stdout",
     "output_type": "stream",
     "text": [
      "ENTER CORRECT CREDIANTILS\n"
     ]
    }
   ],
   "source": [
    "#simple login system\n",
    "print(\"------CREATE ACCOUNT-------\")\n",
    "set_user=input(\"Enter  username\")\n",
    "set_pass=int(input(\"Enter your password\"))\n",
    "print(\"\\t\\t\\t\\t NOW LETS LOGIN IN YOUR ACCOUNT\")\n",
    "for i in range(0,3):\n",
    "    user=input(\"Enter you correct username:\")\n",
    "    passw=int(input(\"Enter your password\"))\n",
    "    if set_user==user and set_pass==passw:\n",
    "        print(user,\"WELCOME IN OUR SYSTEM\")\n",
    "        break;\n",
    "    else:\n",
    "        print(\"OOPS.....ENTER CORRECT CREDIANTILS\")\n",
    "        continue\n",
    "    print(\"YOUR RIES \n",
    "    \n",
    "\n",
    "\n"
   ]
  },
  {
   "cell_type": "code",
   "execution_count": null,
   "id": "a96ce41f-97d8-47d1-a8c2-d8d22529ac11",
   "metadata": {},
   "outputs": [],
   "source": []
  }
 ],
 "metadata": {
  "kernelspec": {
   "display_name": "Python [conda env:base] *",
   "language": "python",
   "name": "conda-base-py"
  },
  "language_info": {
   "codemirror_mode": {
    "name": "ipython",
    "version": 3
   },
   "file_extension": ".py",
   "mimetype": "text/x-python",
   "name": "python",
   "nbconvert_exporter": "python",
   "pygments_lexer": "ipython3",
   "version": "3.12.7"
  }
 },
 "nbformat": 4,
 "nbformat_minor": 5
}
